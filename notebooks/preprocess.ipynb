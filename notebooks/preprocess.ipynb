{
 "cells": [
  {
   "cell_type": "code",
   "execution_count": 1,
   "metadata": {
    "_cell_guid": "b1076dfc-b9ad-4769-8c92-a6c4dae69d19",
    "_kg_hide-input": true,
    "_uuid": "8f2839f25d086af736a60e9eeb907d3b93b6e0e5"
   },
   "outputs": [],
   "source": [
    "import numpy as np \n",
    "import pandas as pd \n",
    "import matplotlib.pyplot as plt\n",
    "import seaborn as sns\n",
    "from sklearn.model_selection import KFold\n",
    "import warnings\n",
    "import time\n",
    "import sys\n",
    "import datetime\n",
    "import matplotlib.pyplot as plt\n",
    "import seaborn as sns\n",
    "from sklearn.metrics import mean_squared_error\n",
    "warnings.simplefilter(action='ignore', category=FutureWarning)"
   ]
  },
  {
   "cell_type": "markdown",
   "metadata": {},
   "source": [
    "## Load data \n",
    "\n",
    "### Transactions data\n",
    "\n",
    "To reduce memory consupution, load first a small set, determine the columns type, and replace them with low-precision ones\n"
   ]
  },
  {
   "cell_type": "code",
   "execution_count": 2,
   "metadata": {},
   "outputs": [
    {
     "data": {
      "text/plain": [
       "{'authorized_flag': numpy.object_,\n",
       " 'card_id': numpy.object_,\n",
       " 'city_id': numpy.int16,\n",
       " 'category_1': numpy.object_,\n",
       " 'installments': numpy.int16,\n",
       " 'category_3': numpy.object_,\n",
       " 'merchant_category_id': numpy.int16,\n",
       " 'merchant_id': numpy.object_,\n",
       " 'month_lag': numpy.int16,\n",
       " 'purchase_amount': numpy.float32,\n",
       " 'purchase_date': numpy.object_,\n",
       " 'category_2': numpy.float16,\n",
       " 'state_id': numpy.int16,\n",
       " 'subsector_id': numpy.int16}"
      ]
     },
     "execution_count": 2,
     "metadata": {},
     "output_type": "execute_result"
    }
   ],
   "source": [
    "sample = pd.read_csv('../input/new_merchant_transactions.csv.zip',nrows=10)\n",
    "dtypes = sample.dtypes\n",
    "\n",
    "col_types = {}\n",
    "remap = {np.int64: np.int16, np.float64:np.float16}\n",
    "for column,typ in dtypes.items():\n",
    "    col_types[column] = remap.get(typ.type,typ.type)\n",
    "\n",
    "col_types[\"purchase_amount\"] = np.float32\n",
    "    \n",
    "col_types\n"
   ]
  },
  {
   "cell_type": "markdown",
   "metadata": {},
   "source": [
    "#### Actually load transactions here. \n",
    "\n"
   ]
  },
  {
   "cell_type": "code",
   "execution_count": 3,
   "metadata": {
    "_uuid": "b6b5a505bfecabd70c6dac0ee30386d074b03953"
   },
   "outputs": [],
   "source": [
    "new_transactions = pd.read_csv('../input/new_merchant_transactions.csv.zip', parse_dates=['purchase_date'],dtype=col_types)\n",
    "historical_transactions = pd.read_csv('../input/historical_transactions.csv.zip', parse_dates=['purchase_date'],dtype=col_types)\n",
    "\n",
    "def binarize(df):\n",
    "    for col in ['authorized_flag', 'category_1']:\n",
    "        df[col] = df[col].map({'Y':1, 'N':0}).astype(np.int8)\n",
    "    return df\n",
    "\n",
    "historical_transactions = binarize(historical_transactions)\n",
    "new_transactions = binarize(new_transactions)"
   ]
  },
  {
   "cell_type": "markdown",
   "metadata": {},
   "source": [
    "#### Merge historical and new transactions"
   ]
  },
  {
   "cell_type": "code",
   "execution_count": 4,
   "metadata": {},
   "outputs": [],
   "source": [
    "historical_transactions[\"historical\"] = 1\n",
    "new_transactions[\"historical\"] = 0\n",
    "\n",
    "all_transactions = pd.concat([historical_transactions,new_transactions])"
   ]
  },
  {
   "cell_type": "code",
   "execution_count": 5,
   "metadata": {},
   "outputs": [],
   "source": [
    "all_transactions[\"merchant_id\"] = all_transactions[\"merchant_id\"].fillna(\"\") "
   ]
  },
  {
   "cell_type": "markdown",
   "metadata": {},
   "source": [
    "### Merchant data and basics features"
   ]
  },
  {
   "cell_type": "code",
   "execution_count": 6,
   "metadata": {},
   "outputs": [],
   "source": [
    "merchants = pd.read_csv(\"../input/merchants.csv.zip\")"
   ]
  },
  {
   "cell_type": "code",
   "execution_count": 7,
   "metadata": {},
   "outputs": [],
   "source": [
    "train = pd.read_csv(\"../input/train.csv.zip\",parse_dates=['first_active_month'])"
   ]
  },
  {
   "cell_type": "code",
   "execution_count": 8,
   "metadata": {},
   "outputs": [],
   "source": [
    "test = pd.read_csv(\"../input/test.csv.zip\",parse_dates=['first_active_month'])"
   ]
  },
  {
   "cell_type": "code",
   "execution_count": 9,
   "metadata": {},
   "outputs": [
    {
     "data": {
      "text/plain": [
       "Index(['merchant_id', 'merchant_group_id', 'merchant_category_id',\n",
       "       'subsector_id', 'numerical_1', 'numerical_2', 'category_1',\n",
       "       'most_recent_sales_range', 'most_recent_purchases_range',\n",
       "       'avg_sales_lag3', 'avg_purchases_lag3', 'active_months_lag3',\n",
       "       'avg_sales_lag6', 'avg_purchases_lag6', 'active_months_lag6',\n",
       "       'avg_sales_lag12', 'avg_purchases_lag12', 'active_months_lag12',\n",
       "       'category_4', 'city_id', 'state_id', 'category_2'],\n",
       "      dtype='object')"
      ]
     },
     "execution_count": 9,
     "metadata": {},
     "output_type": "execute_result"
    }
   ],
   "source": [
    "merchants.columns"
   ]
  },
  {
   "cell_type": "code",
   "execution_count": 10,
   "metadata": {},
   "outputs": [],
   "source": [
    "from sklearn.preprocessing import LabelEncoder"
   ]
  },
  {
   "cell_type": "code",
   "execution_count": 11,
   "metadata": {},
   "outputs": [
    {
     "data": {
      "text/html": [
       "<div>\n",
       "<style scoped>\n",
       "    .dataframe tbody tr th:only-of-type {\n",
       "        vertical-align: middle;\n",
       "    }\n",
       "\n",
       "    .dataframe tbody tr th {\n",
       "        vertical-align: top;\n",
       "    }\n",
       "\n",
       "    .dataframe thead th {\n",
       "        text-align: right;\n",
       "    }\n",
       "</style>\n",
       "<table border=\"1\" class=\"dataframe\">\n",
       "  <thead>\n",
       "    <tr style=\"text-align: right;\">\n",
       "      <th></th>\n",
       "      <th>count</th>\n",
       "      <th>mean</th>\n",
       "      <th>std</th>\n",
       "      <th>min</th>\n",
       "      <th>25%</th>\n",
       "      <th>50%</th>\n",
       "      <th>75%</th>\n",
       "      <th>max</th>\n",
       "    </tr>\n",
       "  </thead>\n",
       "  <tbody>\n",
       "    <tr>\n",
       "      <th>merchant_group_id</th>\n",
       "      <td>334696.0</td>\n",
       "      <td>3.102874e+04</td>\n",
       "      <td>31623.043426</td>\n",
       "      <td>1.000000</td>\n",
       "      <td>3612.000000</td>\n",
       "      <td>19900.000000</td>\n",
       "      <td>51707.250000</td>\n",
       "      <td>1.125860e+05</td>\n",
       "    </tr>\n",
       "    <tr>\n",
       "      <th>merchant_category_id</th>\n",
       "      <td>334696.0</td>\n",
       "      <td>4.231317e+02</td>\n",
       "      <td>252.898046</td>\n",
       "      <td>-1.000000</td>\n",
       "      <td>222.000000</td>\n",
       "      <td>373.000000</td>\n",
       "      <td>683.000000</td>\n",
       "      <td>8.910000e+02</td>\n",
       "    </tr>\n",
       "    <tr>\n",
       "      <th>subsector_id</th>\n",
       "      <td>334696.0</td>\n",
       "      <td>2.511640e+01</td>\n",
       "      <td>9.807371</td>\n",
       "      <td>-1.000000</td>\n",
       "      <td>19.000000</td>\n",
       "      <td>27.000000</td>\n",
       "      <td>33.000000</td>\n",
       "      <td>4.100000e+01</td>\n",
       "    </tr>\n",
       "    <tr>\n",
       "      <th>numerical_1</th>\n",
       "      <td>334696.0</td>\n",
       "      <td>1.147638e-02</td>\n",
       "      <td>1.098154</td>\n",
       "      <td>-0.057471</td>\n",
       "      <td>-0.057471</td>\n",
       "      <td>-0.057471</td>\n",
       "      <td>-0.047556</td>\n",
       "      <td>1.837351e+02</td>\n",
       "    </tr>\n",
       "    <tr>\n",
       "      <th>numerical_2</th>\n",
       "      <td>334696.0</td>\n",
       "      <td>8.103110e-03</td>\n",
       "      <td>1.070497</td>\n",
       "      <td>-0.057471</td>\n",
       "      <td>-0.057471</td>\n",
       "      <td>-0.057471</td>\n",
       "      <td>-0.047556</td>\n",
       "      <td>1.820793e+02</td>\n",
       "    </tr>\n",
       "    <tr>\n",
       "      <th>avg_sales_lag3</th>\n",
       "      <td>334683.0</td>\n",
       "      <td>1.383299e+01</td>\n",
       "      <td>2395.489999</td>\n",
       "      <td>-82.130000</td>\n",
       "      <td>0.880000</td>\n",
       "      <td>1.000000</td>\n",
       "      <td>1.160000</td>\n",
       "      <td>8.518446e+05</td>\n",
       "    </tr>\n",
       "    <tr>\n",
       "      <th>avg_purchases_lag3</th>\n",
       "      <td>334696.0</td>\n",
       "      <td>inf</td>\n",
       "      <td>NaN</td>\n",
       "      <td>0.333495</td>\n",
       "      <td>0.923650</td>\n",
       "      <td>1.016667</td>\n",
       "      <td>1.146522</td>\n",
       "      <td>inf</td>\n",
       "    </tr>\n",
       "    <tr>\n",
       "      <th>active_months_lag3</th>\n",
       "      <td>334696.0</td>\n",
       "      <td>2.994108e+00</td>\n",
       "      <td>0.095247</td>\n",
       "      <td>1.000000</td>\n",
       "      <td>3.000000</td>\n",
       "      <td>3.000000</td>\n",
       "      <td>3.000000</td>\n",
       "      <td>3.000000e+00</td>\n",
       "    </tr>\n",
       "    <tr>\n",
       "      <th>avg_sales_lag6</th>\n",
       "      <td>334683.0</td>\n",
       "      <td>2.165079e+01</td>\n",
       "      <td>3947.108099</td>\n",
       "      <td>-82.130000</td>\n",
       "      <td>0.850000</td>\n",
       "      <td>1.010000</td>\n",
       "      <td>1.230000</td>\n",
       "      <td>1.513959e+06</td>\n",
       "    </tr>\n",
       "    <tr>\n",
       "      <th>avg_purchases_lag6</th>\n",
       "      <td>334696.0</td>\n",
       "      <td>inf</td>\n",
       "      <td>NaN</td>\n",
       "      <td>0.167045</td>\n",
       "      <td>0.902247</td>\n",
       "      <td>1.026961</td>\n",
       "      <td>1.215575</td>\n",
       "      <td>inf</td>\n",
       "    </tr>\n",
       "    <tr>\n",
       "      <th>active_months_lag6</th>\n",
       "      <td>334696.0</td>\n",
       "      <td>5.947397e+00</td>\n",
       "      <td>0.394936</td>\n",
       "      <td>1.000000</td>\n",
       "      <td>6.000000</td>\n",
       "      <td>6.000000</td>\n",
       "      <td>6.000000</td>\n",
       "      <td>6.000000e+00</td>\n",
       "    </tr>\n",
       "    <tr>\n",
       "      <th>avg_sales_lag12</th>\n",
       "      <td>334683.0</td>\n",
       "      <td>2.522771e+01</td>\n",
       "      <td>5251.842165</td>\n",
       "      <td>-82.130000</td>\n",
       "      <td>0.850000</td>\n",
       "      <td>1.020000</td>\n",
       "      <td>1.290000</td>\n",
       "      <td>2.567408e+06</td>\n",
       "    </tr>\n",
       "    <tr>\n",
       "      <th>avg_purchases_lag12</th>\n",
       "      <td>334696.0</td>\n",
       "      <td>inf</td>\n",
       "      <td>NaN</td>\n",
       "      <td>0.098330</td>\n",
       "      <td>0.898333</td>\n",
       "      <td>1.043361</td>\n",
       "      <td>1.266480</td>\n",
       "      <td>inf</td>\n",
       "    </tr>\n",
       "    <tr>\n",
       "      <th>active_months_lag12</th>\n",
       "      <td>334696.0</td>\n",
       "      <td>1.159933e+01</td>\n",
       "      <td>1.520138</td>\n",
       "      <td>1.000000</td>\n",
       "      <td>12.000000</td>\n",
       "      <td>12.000000</td>\n",
       "      <td>12.000000</td>\n",
       "      <td>1.200000e+01</td>\n",
       "    </tr>\n",
       "    <tr>\n",
       "      <th>city_id</th>\n",
       "      <td>334696.0</td>\n",
       "      <td>1.029179e+02</td>\n",
       "      <td>107.090673</td>\n",
       "      <td>-1.000000</td>\n",
       "      <td>-1.000000</td>\n",
       "      <td>69.000000</td>\n",
       "      <td>182.000000</td>\n",
       "      <td>3.470000e+02</td>\n",
       "    </tr>\n",
       "    <tr>\n",
       "      <th>state_id</th>\n",
       "      <td>334696.0</td>\n",
       "      <td>1.186094e+01</td>\n",
       "      <td>6.176889</td>\n",
       "      <td>-1.000000</td>\n",
       "      <td>9.000000</td>\n",
       "      <td>9.000000</td>\n",
       "      <td>16.000000</td>\n",
       "      <td>2.400000e+01</td>\n",
       "    </tr>\n",
       "    <tr>\n",
       "      <th>category_2</th>\n",
       "      <td>322809.0</td>\n",
       "      <td>2.380002e+00</td>\n",
       "      <td>1.562661</td>\n",
       "      <td>1.000000</td>\n",
       "      <td>1.000000</td>\n",
       "      <td>2.000000</td>\n",
       "      <td>4.000000</td>\n",
       "      <td>5.000000e+00</td>\n",
       "    </tr>\n",
       "  </tbody>\n",
       "</table>\n",
       "</div>"
      ],
      "text/plain": [
       "                         count          mean           std        min  \\\n",
       "merchant_group_id     334696.0  3.102874e+04  31623.043426   1.000000   \n",
       "merchant_category_id  334696.0  4.231317e+02    252.898046  -1.000000   \n",
       "subsector_id          334696.0  2.511640e+01      9.807371  -1.000000   \n",
       "numerical_1           334696.0  1.147638e-02      1.098154  -0.057471   \n",
       "numerical_2           334696.0  8.103110e-03      1.070497  -0.057471   \n",
       "avg_sales_lag3        334683.0  1.383299e+01   2395.489999 -82.130000   \n",
       "avg_purchases_lag3    334696.0           inf           NaN   0.333495   \n",
       "active_months_lag3    334696.0  2.994108e+00      0.095247   1.000000   \n",
       "avg_sales_lag6        334683.0  2.165079e+01   3947.108099 -82.130000   \n",
       "avg_purchases_lag6    334696.0           inf           NaN   0.167045   \n",
       "active_months_lag6    334696.0  5.947397e+00      0.394936   1.000000   \n",
       "avg_sales_lag12       334683.0  2.522771e+01   5251.842165 -82.130000   \n",
       "avg_purchases_lag12   334696.0           inf           NaN   0.098330   \n",
       "active_months_lag12   334696.0  1.159933e+01      1.520138   1.000000   \n",
       "city_id               334696.0  1.029179e+02    107.090673  -1.000000   \n",
       "state_id              334696.0  1.186094e+01      6.176889  -1.000000   \n",
       "category_2            322809.0  2.380002e+00      1.562661   1.000000   \n",
       "\n",
       "                              25%           50%           75%           max  \n",
       "merchant_group_id     3612.000000  19900.000000  51707.250000  1.125860e+05  \n",
       "merchant_category_id   222.000000    373.000000    683.000000  8.910000e+02  \n",
       "subsector_id            19.000000     27.000000     33.000000  4.100000e+01  \n",
       "numerical_1             -0.057471     -0.057471     -0.047556  1.837351e+02  \n",
       "numerical_2             -0.057471     -0.057471     -0.047556  1.820793e+02  \n",
       "avg_sales_lag3           0.880000      1.000000      1.160000  8.518446e+05  \n",
       "avg_purchases_lag3       0.923650      1.016667      1.146522           inf  \n",
       "active_months_lag3       3.000000      3.000000      3.000000  3.000000e+00  \n",
       "avg_sales_lag6           0.850000      1.010000      1.230000  1.513959e+06  \n",
       "avg_purchases_lag6       0.902247      1.026961      1.215575           inf  \n",
       "active_months_lag6       6.000000      6.000000      6.000000  6.000000e+00  \n",
       "avg_sales_lag12          0.850000      1.020000      1.290000  2.567408e+06  \n",
       "avg_purchases_lag12      0.898333      1.043361      1.266480           inf  \n",
       "active_months_lag12     12.000000     12.000000     12.000000  1.200000e+01  \n",
       "city_id                 -1.000000     69.000000    182.000000  3.470000e+02  \n",
       "state_id                 9.000000      9.000000     16.000000  2.400000e+01  \n",
       "category_2               1.000000      2.000000      4.000000  5.000000e+00  "
      ]
     },
     "execution_count": 11,
     "metadata": {},
     "output_type": "execute_result"
    }
   ],
   "source": [
    "merchants.describe().T"
   ]
  },
  {
   "cell_type": "code",
   "execution_count": 12,
   "metadata": {},
   "outputs": [
    {
     "data": {
      "text/html": [
       "<div>\n",
       "<style scoped>\n",
       "    .dataframe tbody tr th:only-of-type {\n",
       "        vertical-align: middle;\n",
       "    }\n",
       "\n",
       "    .dataframe tbody tr th {\n",
       "        vertical-align: top;\n",
       "    }\n",
       "\n",
       "    .dataframe thead th {\n",
       "        text-align: right;\n",
       "    }\n",
       "</style>\n",
       "<table border=\"1\" class=\"dataframe\">\n",
       "  <thead>\n",
       "    <tr style=\"text-align: right;\">\n",
       "      <th></th>\n",
       "      <th>count</th>\n",
       "      <th>mean</th>\n",
       "      <th>std</th>\n",
       "      <th>min</th>\n",
       "      <th>25%</th>\n",
       "      <th>50%</th>\n",
       "      <th>75%</th>\n",
       "      <th>max</th>\n",
       "    </tr>\n",
       "  </thead>\n",
       "  <tbody>\n",
       "    <tr>\n",
       "      <th>feature_1</th>\n",
       "      <td>201917.0</td>\n",
       "      <td>3.105311</td>\n",
       "      <td>1.186160</td>\n",
       "      <td>1.000000</td>\n",
       "      <td>2.00000</td>\n",
       "      <td>3.000000</td>\n",
       "      <td>4.000000</td>\n",
       "      <td>5.000000</td>\n",
       "    </tr>\n",
       "    <tr>\n",
       "      <th>feature_2</th>\n",
       "      <td>201917.0</td>\n",
       "      <td>1.745410</td>\n",
       "      <td>0.751362</td>\n",
       "      <td>1.000000</td>\n",
       "      <td>1.00000</td>\n",
       "      <td>2.000000</td>\n",
       "      <td>2.000000</td>\n",
       "      <td>3.000000</td>\n",
       "    </tr>\n",
       "    <tr>\n",
       "      <th>feature_3</th>\n",
       "      <td>201917.0</td>\n",
       "      <td>0.565569</td>\n",
       "      <td>0.495683</td>\n",
       "      <td>0.000000</td>\n",
       "      <td>0.00000</td>\n",
       "      <td>1.000000</td>\n",
       "      <td>1.000000</td>\n",
       "      <td>1.000000</td>\n",
       "    </tr>\n",
       "    <tr>\n",
       "      <th>target</th>\n",
       "      <td>201917.0</td>\n",
       "      <td>-0.393636</td>\n",
       "      <td>3.850500</td>\n",
       "      <td>-33.219281</td>\n",
       "      <td>-0.88311</td>\n",
       "      <td>-0.023437</td>\n",
       "      <td>0.765453</td>\n",
       "      <td>17.965068</td>\n",
       "    </tr>\n",
       "  </tbody>\n",
       "</table>\n",
       "</div>"
      ],
      "text/plain": [
       "              count      mean       std        min      25%       50%  \\\n",
       "feature_1  201917.0  3.105311  1.186160   1.000000  2.00000  3.000000   \n",
       "feature_2  201917.0  1.745410  0.751362   1.000000  1.00000  2.000000   \n",
       "feature_3  201917.0  0.565569  0.495683   0.000000  0.00000  1.000000   \n",
       "target     201917.0 -0.393636  3.850500 -33.219281 -0.88311 -0.023437   \n",
       "\n",
       "                75%        max  \n",
       "feature_1  4.000000   5.000000  \n",
       "feature_2  2.000000   3.000000  \n",
       "feature_3  1.000000   1.000000  \n",
       "target     0.765453  17.965068  "
      ]
     },
     "execution_count": 12,
     "metadata": {},
     "output_type": "execute_result"
    }
   ],
   "source": [
    "train.describe().T"
   ]
  },
  {
   "cell_type": "code",
   "execution_count": 13,
   "metadata": {},
   "outputs": [
    {
     "data": {
      "text/plain": [
       "Index(['authorized_flag', 'card_id', 'city_id', 'category_1', 'installments',\n",
       "       'category_3', 'merchant_category_id', 'merchant_id', 'month_lag',\n",
       "       'purchase_amount', 'purchase_date', 'category_2', 'state_id',\n",
       "       'subsector_id', 'historical'],\n",
       "      dtype='object')"
      ]
     },
     "execution_count": 13,
     "metadata": {},
     "output_type": "execute_result"
    }
   ],
   "source": [
    "all_transactions.columns"
   ]
  },
  {
   "cell_type": "code",
   "execution_count": 14,
   "metadata": {},
   "outputs": [
    {
     "data": {
      "text/html": [
       "<div>\n",
       "<style scoped>\n",
       "    .dataframe tbody tr th:only-of-type {\n",
       "        vertical-align: middle;\n",
       "    }\n",
       "\n",
       "    .dataframe tbody tr th {\n",
       "        vertical-align: top;\n",
       "    }\n",
       "\n",
       "    .dataframe thead th {\n",
       "        text-align: right;\n",
       "    }\n",
       "</style>\n",
       "<table border=\"1\" class=\"dataframe\">\n",
       "  <thead>\n",
       "    <tr style=\"text-align: right;\">\n",
       "      <th></th>\n",
       "      <th>count</th>\n",
       "      <th>mean</th>\n",
       "      <th>std</th>\n",
       "      <th>min</th>\n",
       "      <th>25%</th>\n",
       "      <th>50%</th>\n",
       "      <th>75%</th>\n",
       "      <th>max</th>\n",
       "    </tr>\n",
       "  </thead>\n",
       "  <tbody>\n",
       "    <tr>\n",
       "      <th>authorized_flag</th>\n",
       "      <td>31075392.0</td>\n",
       "      <td>0.919006</td>\n",
       "      <td>0.272825</td>\n",
       "      <td>0.000000</td>\n",
       "      <td>1.000000</td>\n",
       "      <td>1.000000</td>\n",
       "      <td>1.000000</td>\n",
       "      <td>1.0</td>\n",
       "    </tr>\n",
       "    <tr>\n",
       "      <th>city_id</th>\n",
       "      <td>31075392.0</td>\n",
       "      <td>129.645324</td>\n",
       "      <td>104.092565</td>\n",
       "      <td>-1.000000</td>\n",
       "      <td>53.000000</td>\n",
       "      <td>90.000000</td>\n",
       "      <td>212.000000</td>\n",
       "      <td>347.0</td>\n",
       "    </tr>\n",
       "    <tr>\n",
       "      <th>category_1</th>\n",
       "      <td>31075392.0</td>\n",
       "      <td>0.069094</td>\n",
       "      <td>0.253614</td>\n",
       "      <td>0.000000</td>\n",
       "      <td>0.000000</td>\n",
       "      <td>0.000000</td>\n",
       "      <td>0.000000</td>\n",
       "      <td>1.0</td>\n",
       "    </tr>\n",
       "    <tr>\n",
       "      <th>installments</th>\n",
       "      <td>31075392.0</td>\n",
       "      <td>0.650673</td>\n",
       "      <td>2.734985</td>\n",
       "      <td>-1.000000</td>\n",
       "      <td>0.000000</td>\n",
       "      <td>0.000000</td>\n",
       "      <td>1.000000</td>\n",
       "      <td>999.0</td>\n",
       "    </tr>\n",
       "    <tr>\n",
       "      <th>merchant_category_id</th>\n",
       "      <td>31075392.0</td>\n",
       "      <td>477.851821</td>\n",
       "      <td>249.482143</td>\n",
       "      <td>-1.000000</td>\n",
       "      <td>302.000000</td>\n",
       "      <td>454.000000</td>\n",
       "      <td>705.000000</td>\n",
       "      <td>891.0</td>\n",
       "    </tr>\n",
       "    <tr>\n",
       "      <th>month_lag</th>\n",
       "      <td>31075392.0</td>\n",
       "      <td>-4.110560</td>\n",
       "      <td>3.766495</td>\n",
       "      <td>-13.000000</td>\n",
       "      <td>-7.000000</td>\n",
       "      <td>-3.000000</td>\n",
       "      <td>-1.000000</td>\n",
       "      <td>2.0</td>\n",
       "    </tr>\n",
       "    <tr>\n",
       "      <th>purchase_amount</th>\n",
       "      <td>31075392.0</td>\n",
       "      <td>0.022308</td>\n",
       "      <td>1087.456055</td>\n",
       "      <td>-0.746908</td>\n",
       "      <td>-0.719905</td>\n",
       "      <td>-0.687523</td>\n",
       "      <td>-0.600865</td>\n",
       "      <td>6010604.0</td>\n",
       "    </tr>\n",
       "    <tr>\n",
       "      <th>category_2</th>\n",
       "      <td>28310783.0</td>\n",
       "      <td>NaN</td>\n",
       "      <td>0.000000</td>\n",
       "      <td>1.000000</td>\n",
       "      <td>1.000000</td>\n",
       "      <td>1.000000</td>\n",
       "      <td>3.000000</td>\n",
       "      <td>5.0</td>\n",
       "    </tr>\n",
       "    <tr>\n",
       "      <th>state_id</th>\n",
       "      <td>31075392.0</td>\n",
       "      <td>10.586618</td>\n",
       "      <td>6.347145</td>\n",
       "      <td>-1.000000</td>\n",
       "      <td>9.000000</td>\n",
       "      <td>9.000000</td>\n",
       "      <td>16.000000</td>\n",
       "      <td>24.0</td>\n",
       "    </tr>\n",
       "    <tr>\n",
       "      <th>subsector_id</th>\n",
       "      <td>31075392.0</td>\n",
       "      <td>26.793295</td>\n",
       "      <td>9.723248</td>\n",
       "      <td>-1.000000</td>\n",
       "      <td>19.000000</td>\n",
       "      <td>29.000000</td>\n",
       "      <td>34.000000</td>\n",
       "      <td>41.0</td>\n",
       "    </tr>\n",
       "    <tr>\n",
       "      <th>historical</th>\n",
       "      <td>31075392.0</td>\n",
       "      <td>0.936830</td>\n",
       "      <td>0.243268</td>\n",
       "      <td>0.000000</td>\n",
       "      <td>1.000000</td>\n",
       "      <td>1.000000</td>\n",
       "      <td>1.000000</td>\n",
       "      <td>1.0</td>\n",
       "    </tr>\n",
       "  </tbody>\n",
       "</table>\n",
       "</div>"
      ],
      "text/plain": [
       "                           count        mean          std        min  \\\n",
       "authorized_flag       31075392.0    0.919006     0.272825   0.000000   \n",
       "city_id               31075392.0  129.645324   104.092565  -1.000000   \n",
       "category_1            31075392.0    0.069094     0.253614   0.000000   \n",
       "installments          31075392.0    0.650673     2.734985  -1.000000   \n",
       "merchant_category_id  31075392.0  477.851821   249.482143  -1.000000   \n",
       "month_lag             31075392.0   -4.110560     3.766495 -13.000000   \n",
       "purchase_amount       31075392.0    0.022308  1087.456055  -0.746908   \n",
       "category_2            28310783.0         NaN     0.000000   1.000000   \n",
       "state_id              31075392.0   10.586618     6.347145  -1.000000   \n",
       "subsector_id          31075392.0   26.793295     9.723248  -1.000000   \n",
       "historical            31075392.0    0.936830     0.243268   0.000000   \n",
       "\n",
       "                             25%         50%         75%        max  \n",
       "authorized_flag         1.000000    1.000000    1.000000        1.0  \n",
       "city_id                53.000000   90.000000  212.000000      347.0  \n",
       "category_1              0.000000    0.000000    0.000000        1.0  \n",
       "installments            0.000000    0.000000    1.000000      999.0  \n",
       "merchant_category_id  302.000000  454.000000  705.000000      891.0  \n",
       "month_lag              -7.000000   -3.000000   -1.000000        2.0  \n",
       "purchase_amount        -0.719905   -0.687523   -0.600865  6010604.0  \n",
       "category_2              1.000000    1.000000    3.000000        5.0  \n",
       "state_id                9.000000    9.000000   16.000000       24.0  \n",
       "subsector_id           19.000000   29.000000   34.000000       41.0  \n",
       "historical              1.000000    1.000000    1.000000        1.0  "
      ]
     },
     "execution_count": 14,
     "metadata": {},
     "output_type": "execute_result"
    }
   ],
   "source": [
    "all_transactions.describe().T"
   ]
  },
  {
   "cell_type": "markdown",
   "metadata": {},
   "source": [
    "* `purchase_amount` is sometimes inf"
   ]
  },
  {
   "cell_type": "code",
   "execution_count": 15,
   "metadata": {},
   "outputs": [
    {
     "data": {
      "text/plain": [
       "0"
      ]
     },
     "execution_count": 15,
     "metadata": {},
     "output_type": "execute_result"
    }
   ],
   "source": [
    "inf_purch = all_transactions.purchase_amount == np.inf\n",
    "\n",
    "inf_purch.sum()"
   ]
  },
  {
   "cell_type": "code",
   "execution_count": 16,
   "metadata": {},
   "outputs": [
    {
     "name": "stderr",
     "output_type": "stream",
     "text": [
      "/home/ec2-user/anaconda3/envs/tensorflow_p36/lib/python3.6/site-packages/ipykernel/__main__.py:1: SettingWithCopyWarning: \n",
      "A value is trying to be set on a copy of a slice from a DataFrame\n",
      "\n",
      "See the caveats in the documentation: http://pandas.pydata.org/pandas-docs/stable/indexing.html#indexing-view-versus-copy\n",
      "  if __name__ == '__main__':\n"
     ]
    }
   ],
   "source": [
    "all_transactions.purchase_amount[inf_purch] = all_transactions.purchase_amount[~inf_purch].max()"
   ]
  },
  {
   "cell_type": "code",
   "execution_count": 17,
   "metadata": {},
   "outputs": [],
   "source": [
    "all_transactions[\"purchase_amount\"] = all_transactions[\"purchase_amount\"].astype(np.float32)"
   ]
  },
  {
   "cell_type": "code",
   "execution_count": 18,
   "metadata": {},
   "outputs": [
    {
     "data": {
      "text/html": [
       "<div>\n",
       "<style scoped>\n",
       "    .dataframe tbody tr th:only-of-type {\n",
       "        vertical-align: middle;\n",
       "    }\n",
       "\n",
       "    .dataframe tbody tr th {\n",
       "        vertical-align: top;\n",
       "    }\n",
       "\n",
       "    .dataframe thead th {\n",
       "        text-align: right;\n",
       "    }\n",
       "</style>\n",
       "<table border=\"1\" class=\"dataframe\">\n",
       "  <thead>\n",
       "    <tr style=\"text-align: right;\">\n",
       "      <th></th>\n",
       "      <th>count</th>\n",
       "      <th>mean</th>\n",
       "      <th>std</th>\n",
       "      <th>min</th>\n",
       "      <th>25%</th>\n",
       "      <th>50%</th>\n",
       "      <th>75%</th>\n",
       "      <th>max</th>\n",
       "    </tr>\n",
       "  </thead>\n",
       "  <tbody>\n",
       "    <tr>\n",
       "      <th>authorized_flag</th>\n",
       "      <td>31075392.0</td>\n",
       "      <td>0.919006</td>\n",
       "      <td>0.272825</td>\n",
       "      <td>0.000000</td>\n",
       "      <td>1.000000</td>\n",
       "      <td>1.000000</td>\n",
       "      <td>1.000000</td>\n",
       "      <td>1.0</td>\n",
       "    </tr>\n",
       "    <tr>\n",
       "      <th>city_id</th>\n",
       "      <td>31075392.0</td>\n",
       "      <td>129.645324</td>\n",
       "      <td>104.092565</td>\n",
       "      <td>-1.000000</td>\n",
       "      <td>53.000000</td>\n",
       "      <td>90.000000</td>\n",
       "      <td>212.000000</td>\n",
       "      <td>347.0</td>\n",
       "    </tr>\n",
       "    <tr>\n",
       "      <th>category_1</th>\n",
       "      <td>31075392.0</td>\n",
       "      <td>0.069094</td>\n",
       "      <td>0.253614</td>\n",
       "      <td>0.000000</td>\n",
       "      <td>0.000000</td>\n",
       "      <td>0.000000</td>\n",
       "      <td>0.000000</td>\n",
       "      <td>1.0</td>\n",
       "    </tr>\n",
       "    <tr>\n",
       "      <th>installments</th>\n",
       "      <td>31075392.0</td>\n",
       "      <td>0.650673</td>\n",
       "      <td>2.734985</td>\n",
       "      <td>-1.000000</td>\n",
       "      <td>0.000000</td>\n",
       "      <td>0.000000</td>\n",
       "      <td>1.000000</td>\n",
       "      <td>999.0</td>\n",
       "    </tr>\n",
       "    <tr>\n",
       "      <th>merchant_category_id</th>\n",
       "      <td>31075392.0</td>\n",
       "      <td>477.851821</td>\n",
       "      <td>249.482143</td>\n",
       "      <td>-1.000000</td>\n",
       "      <td>302.000000</td>\n",
       "      <td>454.000000</td>\n",
       "      <td>705.000000</td>\n",
       "      <td>891.0</td>\n",
       "    </tr>\n",
       "    <tr>\n",
       "      <th>month_lag</th>\n",
       "      <td>31075392.0</td>\n",
       "      <td>-4.110560</td>\n",
       "      <td>3.766495</td>\n",
       "      <td>-13.000000</td>\n",
       "      <td>-7.000000</td>\n",
       "      <td>-3.000000</td>\n",
       "      <td>-1.000000</td>\n",
       "      <td>2.0</td>\n",
       "    </tr>\n",
       "    <tr>\n",
       "      <th>purchase_amount</th>\n",
       "      <td>31075392.0</td>\n",
       "      <td>0.022308</td>\n",
       "      <td>1087.456055</td>\n",
       "      <td>-0.746908</td>\n",
       "      <td>-0.719905</td>\n",
       "      <td>-0.687523</td>\n",
       "      <td>-0.600865</td>\n",
       "      <td>6010604.0</td>\n",
       "    </tr>\n",
       "    <tr>\n",
       "      <th>category_2</th>\n",
       "      <td>28310783.0</td>\n",
       "      <td>NaN</td>\n",
       "      <td>0.000000</td>\n",
       "      <td>1.000000</td>\n",
       "      <td>1.000000</td>\n",
       "      <td>1.000000</td>\n",
       "      <td>3.000000</td>\n",
       "      <td>5.0</td>\n",
       "    </tr>\n",
       "    <tr>\n",
       "      <th>state_id</th>\n",
       "      <td>31075392.0</td>\n",
       "      <td>10.586618</td>\n",
       "      <td>6.347145</td>\n",
       "      <td>-1.000000</td>\n",
       "      <td>9.000000</td>\n",
       "      <td>9.000000</td>\n",
       "      <td>16.000000</td>\n",
       "      <td>24.0</td>\n",
       "    </tr>\n",
       "    <tr>\n",
       "      <th>subsector_id</th>\n",
       "      <td>31075392.0</td>\n",
       "      <td>26.793295</td>\n",
       "      <td>9.723248</td>\n",
       "      <td>-1.000000</td>\n",
       "      <td>19.000000</td>\n",
       "      <td>29.000000</td>\n",
       "      <td>34.000000</td>\n",
       "      <td>41.0</td>\n",
       "    </tr>\n",
       "    <tr>\n",
       "      <th>historical</th>\n",
       "      <td>31075392.0</td>\n",
       "      <td>0.936830</td>\n",
       "      <td>0.243268</td>\n",
       "      <td>0.000000</td>\n",
       "      <td>1.000000</td>\n",
       "      <td>1.000000</td>\n",
       "      <td>1.000000</td>\n",
       "      <td>1.0</td>\n",
       "    </tr>\n",
       "  </tbody>\n",
       "</table>\n",
       "</div>"
      ],
      "text/plain": [
       "                           count        mean          std        min  \\\n",
       "authorized_flag       31075392.0    0.919006     0.272825   0.000000   \n",
       "city_id               31075392.0  129.645324   104.092565  -1.000000   \n",
       "category_1            31075392.0    0.069094     0.253614   0.000000   \n",
       "installments          31075392.0    0.650673     2.734985  -1.000000   \n",
       "merchant_category_id  31075392.0  477.851821   249.482143  -1.000000   \n",
       "month_lag             31075392.0   -4.110560     3.766495 -13.000000   \n",
       "purchase_amount       31075392.0    0.022308  1087.456055  -0.746908   \n",
       "category_2            28310783.0         NaN     0.000000   1.000000   \n",
       "state_id              31075392.0   10.586618     6.347145  -1.000000   \n",
       "subsector_id          31075392.0   26.793295     9.723248  -1.000000   \n",
       "historical            31075392.0    0.936830     0.243268   0.000000   \n",
       "\n",
       "                             25%         50%         75%        max  \n",
       "authorized_flag         1.000000    1.000000    1.000000        1.0  \n",
       "city_id                53.000000   90.000000  212.000000      347.0  \n",
       "category_1              0.000000    0.000000    0.000000        1.0  \n",
       "installments            0.000000    0.000000    1.000000      999.0  \n",
       "merchant_category_id  302.000000  454.000000  705.000000      891.0  \n",
       "month_lag              -7.000000   -3.000000   -1.000000        2.0  \n",
       "purchase_amount        -0.719905   -0.687523   -0.600865  6010604.0  \n",
       "category_2              1.000000    1.000000    3.000000        5.0  \n",
       "state_id                9.000000    9.000000   16.000000       24.0  \n",
       "subsector_id           19.000000   29.000000   34.000000       41.0  \n",
       "historical              1.000000    1.000000    1.000000        1.0  "
      ]
     },
     "execution_count": 18,
     "metadata": {},
     "output_type": "execute_result"
    }
   ],
   "source": [
    "all_transactions.describe().T"
   ]
  },
  {
   "cell_type": "code",
   "execution_count": 19,
   "metadata": {},
   "outputs": [],
   "source": [
    "# ( all_transactions.isna() | all_transactions == np.inf).sum(axis=0)"
   ]
  },
  {
   "cell_type": "markdown",
   "metadata": {},
   "source": [
    "### Categorical features"
   ]
  },
  {
   "cell_type": "code",
   "execution_count": 20,
   "metadata": {},
   "outputs": [],
   "source": [
    "merchants_categorical_features = [\"merchant_id\",\"city_id\",\"merchant_category_id\",\"state_id\"]\n",
    "\n",
    "transactions_categorical_features = [\"category_1\",\"category_2\",\"category_3\",\"installments\"]"
   ]
  },
  {
   "cell_type": "code",
   "execution_count": 21,
   "metadata": {},
   "outputs": [],
   "source": [
    "uniques = {}\n",
    "for col in transactions_categorical_features+merchants_categorical_features:\n",
    "    uniques[col] = all_transactions[col].unique()"
   ]
  },
  {
   "cell_type": "code",
   "execution_count": 22,
   "metadata": {},
   "outputs": [
    {
     "data": {
      "text/plain": [
       "{'category_1': array([0, 1]),\n",
       " 'category_2': array([ 1., nan,  3.,  5.,  2.,  4.]),\n",
       " 'category_3': array(['A', 'B', 'C', nan], dtype=object),\n",
       " 'installments': array([  0,   1,   5,   3,   4,   2,  -1,  10,   6,  12,   8,   7,   9,\n",
       "         11, 999]),\n",
       " 'merchant_id': array(['M_ID_e020e9b302', 'M_ID_86ec983688', 'M_ID_979ed661fc', ...,\n",
       "        'M_ID_d722baf580', 'M_ID_79edabf769', 'M_ID_4247d8f9d5'],\n",
       "       dtype=object),\n",
       " 'city_id': array([ 88, 333,   3,  -1,  69, 233, 322, 138, 226, 330, 278, 221,  19,\n",
       "        331, 211, 209, 193,  11, 161, 105, 329,  42, 251, 338, 344,  87,\n",
       "         63, 229, 170, 135, 107,  20,  57,  17, 212, 277, 280, 117,  85,\n",
       "        301,  25,  86,  96,  38, 283, 116, 188, 250, 231, 158, 272, 311,\n",
       "         49, 296, 148,  90, 275, 108,  30, 302, 143,  66, 291, 137, 147,\n",
       "          4, 163,  24, 109, 314, 131,   2, 144, 340,  62, 160, 157, 216,\n",
       "         53, 149,  47, 169,  14, 342,  26, 120,  56, 162, 213, 259, 247,\n",
       "        264, 288,  12, 223, 304, 230, 155, 106, 279, 140,  23,  36, 126,\n",
       "        122,  52, 265,  21, 173, 318,  48, 261, 129, 199, 286, 245, 244,\n",
       "         18,  51,  58, 248,  80, 295, 159,  13, 276, 182, 274,  98, 290,\n",
       "        128, 181, 101, 200,  60, 102, 194, 150, 178, 145, 103, 234, 239,\n",
       "        268, 335, 156, 339, 334, 242, 184, 168,  78, 232,   7, 111, 285,\n",
       "        115,  89, 119, 253, 300,  33, 187, 133, 110, 238, 255,  79,  84,\n",
       "         73, 166,  34, 195,   8, 123, 267,  94, 270, 312, 343, 210,  46,\n",
       "        214, 258,  65, 136,  75, 224, 104, 100, 328,  64,  41,  74,   1,\n",
       "         76, 271, 179,   9, 308, 146, 190, 180, 307,  81, 175, 203, 183,\n",
       "        228, 303, 174, 260, 208, 206,  82, 222, 313, 289, 294, 266, 124,\n",
       "        309, 186, 298, 287, 325,  10, 139, 167, 281, 151, 246, 292, 171,\n",
       "        189, 323, 220, 201,  29,  91,  35, 198, 218,  61,  28, 191, 172,\n",
       "         83,  77, 153, 252, 236, 197,  97,  32, 262, 125, 269,  16, 263,\n",
       "        315,  39, 205, 297, 347, 256, 240, 327, 142, 326, 204, 113,  70,\n",
       "        337, 341, 336, 130,   6,  22, 299, 219, 165, 227, 237,  54, 310,\n",
       "         44, 282, 114,  40, 320, 321, 112, 254, 215,  68, 345, 306, 207,\n",
       "         71, 118, 235, 293, 319, 185, 273, 316,  92]),\n",
       " 'merchant_category_id': array([ 80, 367, 560, 278, 683, 130, 879, 511, 842, 561, 705, 332, 111,\n",
       "        528, 437, 605, 387,  19, 307, 333, 506, 108,  45, 813, 755, 290,\n",
       "         68, 419, 703, 884, 391, 414, 783, 360, 454, 105, 650, 670, 574,\n",
       "        180,  87, 434, 401, 309, 330, 840, 273, 544, 839, 302, 195, 299,\n",
       "        792, 557, 383, 606, 289, 443, 415, 637, 478, 667, 126,  34, 818,\n",
       "        834, 222, 690, 514, 706, 422,  90, 319, 114, 630, 529,   2, 412,\n",
       "         14, 179, 661, 695, 774, 206, 462, 356, 642, 489, 154,  40, 340,\n",
       "         60, 769, 171, 166, 411, 614, 373, 216,  36,   9, 795, 748, 298,\n",
       "        363, 519, 734, 499, 737, 554, 210, 531, 427, 779, 369, 843,  56,\n",
       "        178, 317,  16, 384, 836, 823, 771,  78, 420, 796, 692, 215, 573,\n",
       "        458, 246, 527,  63,  21, 518, 320, 665, 550, 491, 623, 451, 829,\n",
       "        526, 274, 607, 891, 671, 438, 497, 498, 793, 761,  69, 471, 507,\n",
       "        386, 645, 181,  33, 398, 472, 536, 248, 409, 656, 357, 631, 342,\n",
       "        225, 480, 117, 763, 385, 534, 241, 651, 184, 827, 417, 702, 504,\n",
       "        889, 400, 224, 119,  57, 157, 115,  38, 669, 198, 593, 396, 432,\n",
       "        885, 652,  -1, 474, 312, 351, 854, 267, 873, 613, 110, 223,  81,\n",
       "        217, 315,  71, 276, 172, 568, 416, 751, 456, 348, 781, 662, 109,\n",
       "        245, 259, 685,  83, 551, 696, 676, 469, 598, 260, 556, 457, 819,\n",
       "        806, 374, 847, 101, 292, 546, 790, 343, 713, 448, 209, 814, 201,\n",
       "        436, 803,  53, 591, 509, 182, 513, 192, 247, 265, 648,  52, 757,\n",
       "        482, 653, 808, 430, 780, 261, 714, 712, 817, 187, 686, 878, 881,\n",
       "        583, 355, 599, 162, 668, 358, 421, 381, 717, 334, 140, 530, 190,\n",
       "        743, 587,  11, 183, 141, 249, 805, 131, 464, 580, 741,  59, 718,\n",
       "        393, 345, 628,  27, 164, 311, 268,  49, 664, 542, 601, 226,  31,\n",
       "        634, 579,  67, 153,  37, 523, 603, 145, 882, 322,  18, 875, 687,\n",
       "         86, 266, 725, 220, 281, 789]),\n",
       " 'state_id': array([16,  9, -1, 11, 15, 17,  5, 24, 19, 23,  3,  8, 18,  7,  4, 22, 13,\n",
       "         1, 10, 21, 20, 14,  2, 12,  6])}"
      ]
     },
     "execution_count": 22,
     "metadata": {},
     "output_type": "execute_result"
    }
   ],
   "source": [
    "uniques"
   ]
  },
  {
   "cell_type": "markdown",
   "metadata": {},
   "source": [
    "* `category_2` encoded as a float\n",
    "* missing values for `city_id`, `merchand_category_id`,  `state_id` and `installments` seem to be -1 "
   ]
  },
  {
   "cell_type": "code",
   "execution_count": 23,
   "metadata": {},
   "outputs": [],
   "source": [
    "all_transactions[\"category_2\"] = all_transactions[\"category_2\"].fillna(-1).astype(np.int8)\n",
    "\n",
    "category_3_map = {'A':0, 'B':1, 'C':2, np.nan:-1}\n",
    "all_transactions[\"category_3\"] = all_transactions[\"category_3\"].apply(category_3_map.get)"
   ]
  },
  {
   "cell_type": "code",
   "execution_count": 24,
   "metadata": {},
   "outputs": [
    {
     "name": "stdout",
     "output_type": "stream",
     "text": [
      "merchant_id only in merchants {''} only in transactions set()\n",
      "city_id only in merchants {264, 138, 266, 273, 19, 20, 149, 280, 292, 170, 298, 302, 179, 54, 185, 57, 315, 316, 319, 322, 195, 197, 199, 75, 331, 79, 207, 335, 344, 222, 227, 102, 103, 107, 109, 244, 122} only in transactions set()\n",
      "merchant_category_id only in merchants {192, 37, 27, 687, 817, 882, 311, 603, 220} only in transactions {776, 566}\n",
      "state_id only in merchants set() only in transactions set()\n"
     ]
    }
   ],
   "source": [
    "for col in merchants_categorical_features:\n",
    "    print(col, \"only in merchants\", set(uniques[col]) - set(merchants[col].unique()), \"only in transactions\", set(merchants[col].unique()) - set(uniques[col]))"
   ]
  },
  {
   "cell_type": "markdown",
   "metadata": {},
   "source": [
    "* two `merchant_ids`, 776 and 566 are only in transactions "
   ]
  },
  {
   "cell_type": "code",
   "execution_count": 25,
   "metadata": {},
   "outputs": [],
   "source": [
    "non_cat_features = [ cat for cat in all_transactions if not cat in transactions_categorical_features+merchants_categorical_features   ]"
   ]
  },
  {
   "cell_type": "code",
   "execution_count": 26,
   "metadata": {},
   "outputs": [],
   "source": [
    "merchant_encoder = LabelEncoder()\n",
    "merchant_encoder.fit(uniques[\"merchant_id\"])\n",
    "\n",
    "merchants[\"merchant_id\"] = merchant_encoder.transform(merchants[\"merchant_id\"])\n",
    "all_transactions[\"merchant_id\"] = merchant_encoder.transform(all_transactions[\"merchant_id\"])"
   ]
  },
  {
   "cell_type": "code",
   "execution_count": 27,
   "metadata": {},
   "outputs": [],
   "source": [
    "import pickle\n",
    "\n",
    "with open(\"merchant_encoder.pkl\",\"wb+\") as fout:\n",
    "    fout.write( pickle.dumps(merchant_encoder) )"
   ]
  },
  {
   "cell_type": "code",
   "execution_count": 28,
   "metadata": {},
   "outputs": [],
   "source": [
    "missing = ( all_transactions[transactions_categorical_features+merchants_categorical_features] == -1 )\n",
    "non_cat_missing = all_transactions[non_cat_features].isna()\n",
    "\n",
    "missing = missing.join(non_cat_missing)"
   ]
  },
  {
   "cell_type": "code",
   "execution_count": 29,
   "metadata": {},
   "outputs": [],
   "source": [
    "coocc = missing.T.astype(np.int).dot(missing.astype(np.int))"
   ]
  },
  {
   "cell_type": "code",
   "execution_count": 30,
   "metadata": {},
   "outputs": [],
   "source": [
    "import matplotlib.pyplot as plt"
   ]
  },
  {
   "cell_type": "code",
   "execution_count": 31,
   "metadata": {},
   "outputs": [],
   "source": [
    "coocc /= all_transactions.shape[0]"
   ]
  },
  {
   "cell_type": "code",
   "execution_count": 32,
   "metadata": {},
   "outputs": [
    {
     "data": {
      "text/html": [
       "<div>\n",
       "<style scoped>\n",
       "    .dataframe tbody tr th:only-of-type {\n",
       "        vertical-align: middle;\n",
       "    }\n",
       "\n",
       "    .dataframe tbody tr th {\n",
       "        vertical-align: top;\n",
       "    }\n",
       "\n",
       "    .dataframe thead th {\n",
       "        text-align: right;\n",
       "    }\n",
       "</style>\n",
       "<table border=\"1\" class=\"dataframe\">\n",
       "  <thead>\n",
       "    <tr style=\"text-align: right;\">\n",
       "      <th></th>\n",
       "      <th>category_1</th>\n",
       "      <th>category_2</th>\n",
       "      <th>category_3</th>\n",
       "      <th>installments</th>\n",
       "      <th>merchant_id</th>\n",
       "      <th>city_id</th>\n",
       "      <th>merchant_category_id</th>\n",
       "      <th>state_id</th>\n",
       "      <th>authorized_flag</th>\n",
       "      <th>card_id</th>\n",
       "      <th>month_lag</th>\n",
       "      <th>purchase_amount</th>\n",
       "      <th>purchase_date</th>\n",
       "      <th>subsector_id</th>\n",
       "      <th>historical</th>\n",
       "    </tr>\n",
       "  </thead>\n",
       "  <tbody>\n",
       "    <tr>\n",
       "      <th>category_1</th>\n",
       "      <td>0.0</td>\n",
       "      <td>0.000000</td>\n",
       "      <td>0.000000</td>\n",
       "      <td>0.000000</td>\n",
       "      <td>0.0</td>\n",
       "      <td>0.000000</td>\n",
       "      <td>0.000000</td>\n",
       "      <td>0.000000</td>\n",
       "      <td>0.0</td>\n",
       "      <td>0.0</td>\n",
       "      <td>0.0</td>\n",
       "      <td>0.0</td>\n",
       "      <td>0.0</td>\n",
       "      <td>0.0</td>\n",
       "      <td>0.0</td>\n",
       "    </tr>\n",
       "    <tr>\n",
       "      <th>category_2</th>\n",
       "      <td>0.0</td>\n",
       "      <td>0.097438</td>\n",
       "      <td>0.000554</td>\n",
       "      <td>0.000554</td>\n",
       "      <td>0.0</td>\n",
       "      <td>0.090700</td>\n",
       "      <td>0.000075</td>\n",
       "      <td>0.097438</td>\n",
       "      <td>0.0</td>\n",
       "      <td>0.0</td>\n",
       "      <td>0.0</td>\n",
       "      <td>0.0</td>\n",
       "      <td>0.0</td>\n",
       "      <td>0.0</td>\n",
       "      <td>0.0</td>\n",
       "    </tr>\n",
       "    <tr>\n",
       "      <th>category_3</th>\n",
       "      <td>0.0</td>\n",
       "      <td>0.000554</td>\n",
       "      <td>0.009536</td>\n",
       "      <td>0.009536</td>\n",
       "      <td>0.0</td>\n",
       "      <td>0.000481</td>\n",
       "      <td>0.000000</td>\n",
       "      <td>0.000554</td>\n",
       "      <td>0.0</td>\n",
       "      <td>0.0</td>\n",
       "      <td>0.0</td>\n",
       "      <td>0.0</td>\n",
       "      <td>0.0</td>\n",
       "      <td>0.0</td>\n",
       "      <td>0.0</td>\n",
       "    </tr>\n",
       "    <tr>\n",
       "      <th>installments</th>\n",
       "      <td>0.0</td>\n",
       "      <td>0.000554</td>\n",
       "      <td>0.009536</td>\n",
       "      <td>0.009536</td>\n",
       "      <td>0.0</td>\n",
       "      <td>0.000481</td>\n",
       "      <td>0.000000</td>\n",
       "      <td>0.000554</td>\n",
       "      <td>0.0</td>\n",
       "      <td>0.0</td>\n",
       "      <td>0.0</td>\n",
       "      <td>0.0</td>\n",
       "      <td>0.0</td>\n",
       "      <td>0.0</td>\n",
       "      <td>0.0</td>\n",
       "    </tr>\n",
       "    <tr>\n",
       "      <th>merchant_id</th>\n",
       "      <td>0.0</td>\n",
       "      <td>0.000000</td>\n",
       "      <td>0.000000</td>\n",
       "      <td>0.000000</td>\n",
       "      <td>0.0</td>\n",
       "      <td>0.000000</td>\n",
       "      <td>0.000000</td>\n",
       "      <td>0.000000</td>\n",
       "      <td>0.0</td>\n",
       "      <td>0.0</td>\n",
       "      <td>0.0</td>\n",
       "      <td>0.0</td>\n",
       "      <td>0.0</td>\n",
       "      <td>0.0</td>\n",
       "      <td>0.0</td>\n",
       "    </tr>\n",
       "    <tr>\n",
       "      <th>city_id</th>\n",
       "      <td>0.0</td>\n",
       "      <td>0.090700</td>\n",
       "      <td>0.000481</td>\n",
       "      <td>0.000481</td>\n",
       "      <td>0.0</td>\n",
       "      <td>0.090700</td>\n",
       "      <td>0.000075</td>\n",
       "      <td>0.090700</td>\n",
       "      <td>0.0</td>\n",
       "      <td>0.0</td>\n",
       "      <td>0.0</td>\n",
       "      <td>0.0</td>\n",
       "      <td>0.0</td>\n",
       "      <td>0.0</td>\n",
       "      <td>0.0</td>\n",
       "    </tr>\n",
       "    <tr>\n",
       "      <th>merchant_category_id</th>\n",
       "      <td>0.0</td>\n",
       "      <td>0.000075</td>\n",
       "      <td>0.000000</td>\n",
       "      <td>0.000000</td>\n",
       "      <td>0.0</td>\n",
       "      <td>0.000075</td>\n",
       "      <td>0.000076</td>\n",
       "      <td>0.000075</td>\n",
       "      <td>0.0</td>\n",
       "      <td>0.0</td>\n",
       "      <td>0.0</td>\n",
       "      <td>0.0</td>\n",
       "      <td>0.0</td>\n",
       "      <td>0.0</td>\n",
       "      <td>0.0</td>\n",
       "    </tr>\n",
       "    <tr>\n",
       "      <th>state_id</th>\n",
       "      <td>0.0</td>\n",
       "      <td>0.097438</td>\n",
       "      <td>0.000554</td>\n",
       "      <td>0.000554</td>\n",
       "      <td>0.0</td>\n",
       "      <td>0.090700</td>\n",
       "      <td>0.000075</td>\n",
       "      <td>0.097438</td>\n",
       "      <td>0.0</td>\n",
       "      <td>0.0</td>\n",
       "      <td>0.0</td>\n",
       "      <td>0.0</td>\n",
       "      <td>0.0</td>\n",
       "      <td>0.0</td>\n",
       "      <td>0.0</td>\n",
       "    </tr>\n",
       "    <tr>\n",
       "      <th>authorized_flag</th>\n",
       "      <td>0.0</td>\n",
       "      <td>0.000000</td>\n",
       "      <td>0.000000</td>\n",
       "      <td>0.000000</td>\n",
       "      <td>0.0</td>\n",
       "      <td>0.000000</td>\n",
       "      <td>0.000000</td>\n",
       "      <td>0.000000</td>\n",
       "      <td>0.0</td>\n",
       "      <td>0.0</td>\n",
       "      <td>0.0</td>\n",
       "      <td>0.0</td>\n",
       "      <td>0.0</td>\n",
       "      <td>0.0</td>\n",
       "      <td>0.0</td>\n",
       "    </tr>\n",
       "    <tr>\n",
       "      <th>card_id</th>\n",
       "      <td>0.0</td>\n",
       "      <td>0.000000</td>\n",
       "      <td>0.000000</td>\n",
       "      <td>0.000000</td>\n",
       "      <td>0.0</td>\n",
       "      <td>0.000000</td>\n",
       "      <td>0.000000</td>\n",
       "      <td>0.000000</td>\n",
       "      <td>0.0</td>\n",
       "      <td>0.0</td>\n",
       "      <td>0.0</td>\n",
       "      <td>0.0</td>\n",
       "      <td>0.0</td>\n",
       "      <td>0.0</td>\n",
       "      <td>0.0</td>\n",
       "    </tr>\n",
       "    <tr>\n",
       "      <th>month_lag</th>\n",
       "      <td>0.0</td>\n",
       "      <td>0.000000</td>\n",
       "      <td>0.000000</td>\n",
       "      <td>0.000000</td>\n",
       "      <td>0.0</td>\n",
       "      <td>0.000000</td>\n",
       "      <td>0.000000</td>\n",
       "      <td>0.000000</td>\n",
       "      <td>0.0</td>\n",
       "      <td>0.0</td>\n",
       "      <td>0.0</td>\n",
       "      <td>0.0</td>\n",
       "      <td>0.0</td>\n",
       "      <td>0.0</td>\n",
       "      <td>0.0</td>\n",
       "    </tr>\n",
       "    <tr>\n",
       "      <th>purchase_amount</th>\n",
       "      <td>0.0</td>\n",
       "      <td>0.000000</td>\n",
       "      <td>0.000000</td>\n",
       "      <td>0.000000</td>\n",
       "      <td>0.0</td>\n",
       "      <td>0.000000</td>\n",
       "      <td>0.000000</td>\n",
       "      <td>0.000000</td>\n",
       "      <td>0.0</td>\n",
       "      <td>0.0</td>\n",
       "      <td>0.0</td>\n",
       "      <td>0.0</td>\n",
       "      <td>0.0</td>\n",
       "      <td>0.0</td>\n",
       "      <td>0.0</td>\n",
       "    </tr>\n",
       "    <tr>\n",
       "      <th>purchase_date</th>\n",
       "      <td>0.0</td>\n",
       "      <td>0.000000</td>\n",
       "      <td>0.000000</td>\n",
       "      <td>0.000000</td>\n",
       "      <td>0.0</td>\n",
       "      <td>0.000000</td>\n",
       "      <td>0.000000</td>\n",
       "      <td>0.000000</td>\n",
       "      <td>0.0</td>\n",
       "      <td>0.0</td>\n",
       "      <td>0.0</td>\n",
       "      <td>0.0</td>\n",
       "      <td>0.0</td>\n",
       "      <td>0.0</td>\n",
       "      <td>0.0</td>\n",
       "    </tr>\n",
       "    <tr>\n",
       "      <th>subsector_id</th>\n",
       "      <td>0.0</td>\n",
       "      <td>0.000000</td>\n",
       "      <td>0.000000</td>\n",
       "      <td>0.000000</td>\n",
       "      <td>0.0</td>\n",
       "      <td>0.000000</td>\n",
       "      <td>0.000000</td>\n",
       "      <td>0.000000</td>\n",
       "      <td>0.0</td>\n",
       "      <td>0.0</td>\n",
       "      <td>0.0</td>\n",
       "      <td>0.0</td>\n",
       "      <td>0.0</td>\n",
       "      <td>0.0</td>\n",
       "      <td>0.0</td>\n",
       "    </tr>\n",
       "    <tr>\n",
       "      <th>historical</th>\n",
       "      <td>0.0</td>\n",
       "      <td>0.000000</td>\n",
       "      <td>0.000000</td>\n",
       "      <td>0.000000</td>\n",
       "      <td>0.0</td>\n",
       "      <td>0.000000</td>\n",
       "      <td>0.000000</td>\n",
       "      <td>0.000000</td>\n",
       "      <td>0.0</td>\n",
       "      <td>0.0</td>\n",
       "      <td>0.0</td>\n",
       "      <td>0.0</td>\n",
       "      <td>0.0</td>\n",
       "      <td>0.0</td>\n",
       "      <td>0.0</td>\n",
       "    </tr>\n",
       "  </tbody>\n",
       "</table>\n",
       "</div>"
      ],
      "text/plain": [
       "                      category_1  category_2  category_3  installments  \\\n",
       "category_1                   0.0    0.000000    0.000000      0.000000   \n",
       "category_2                   0.0    0.097438    0.000554      0.000554   \n",
       "category_3                   0.0    0.000554    0.009536      0.009536   \n",
       "installments                 0.0    0.000554    0.009536      0.009536   \n",
       "merchant_id                  0.0    0.000000    0.000000      0.000000   \n",
       "city_id                      0.0    0.090700    0.000481      0.000481   \n",
       "merchant_category_id         0.0    0.000075    0.000000      0.000000   \n",
       "state_id                     0.0    0.097438    0.000554      0.000554   \n",
       "authorized_flag              0.0    0.000000    0.000000      0.000000   \n",
       "card_id                      0.0    0.000000    0.000000      0.000000   \n",
       "month_lag                    0.0    0.000000    0.000000      0.000000   \n",
       "purchase_amount              0.0    0.000000    0.000000      0.000000   \n",
       "purchase_date                0.0    0.000000    0.000000      0.000000   \n",
       "subsector_id                 0.0    0.000000    0.000000      0.000000   \n",
       "historical                   0.0    0.000000    0.000000      0.000000   \n",
       "\n",
       "                      merchant_id   city_id  merchant_category_id  state_id  \\\n",
       "category_1                    0.0  0.000000              0.000000  0.000000   \n",
       "category_2                    0.0  0.090700              0.000075  0.097438   \n",
       "category_3                    0.0  0.000481              0.000000  0.000554   \n",
       "installments                  0.0  0.000481              0.000000  0.000554   \n",
       "merchant_id                   0.0  0.000000              0.000000  0.000000   \n",
       "city_id                       0.0  0.090700              0.000075  0.090700   \n",
       "merchant_category_id          0.0  0.000075              0.000076  0.000075   \n",
       "state_id                      0.0  0.090700              0.000075  0.097438   \n",
       "authorized_flag               0.0  0.000000              0.000000  0.000000   \n",
       "card_id                       0.0  0.000000              0.000000  0.000000   \n",
       "month_lag                     0.0  0.000000              0.000000  0.000000   \n",
       "purchase_amount               0.0  0.000000              0.000000  0.000000   \n",
       "purchase_date                 0.0  0.000000              0.000000  0.000000   \n",
       "subsector_id                  0.0  0.000000              0.000000  0.000000   \n",
       "historical                    0.0  0.000000              0.000000  0.000000   \n",
       "\n",
       "                      authorized_flag  card_id  month_lag  purchase_amount  \\\n",
       "category_1                        0.0      0.0        0.0              0.0   \n",
       "category_2                        0.0      0.0        0.0              0.0   \n",
       "category_3                        0.0      0.0        0.0              0.0   \n",
       "installments                      0.0      0.0        0.0              0.0   \n",
       "merchant_id                       0.0      0.0        0.0              0.0   \n",
       "city_id                           0.0      0.0        0.0              0.0   \n",
       "merchant_category_id              0.0      0.0        0.0              0.0   \n",
       "state_id                          0.0      0.0        0.0              0.0   \n",
       "authorized_flag                   0.0      0.0        0.0              0.0   \n",
       "card_id                           0.0      0.0        0.0              0.0   \n",
       "month_lag                         0.0      0.0        0.0              0.0   \n",
       "purchase_amount                   0.0      0.0        0.0              0.0   \n",
       "purchase_date                     0.0      0.0        0.0              0.0   \n",
       "subsector_id                      0.0      0.0        0.0              0.0   \n",
       "historical                        0.0      0.0        0.0              0.0   \n",
       "\n",
       "                      purchase_date  subsector_id  historical  \n",
       "category_1                      0.0           0.0         0.0  \n",
       "category_2                      0.0           0.0         0.0  \n",
       "category_3                      0.0           0.0         0.0  \n",
       "installments                    0.0           0.0         0.0  \n",
       "merchant_id                     0.0           0.0         0.0  \n",
       "city_id                         0.0           0.0         0.0  \n",
       "merchant_category_id            0.0           0.0         0.0  \n",
       "state_id                        0.0           0.0         0.0  \n",
       "authorized_flag                 0.0           0.0         0.0  \n",
       "card_id                         0.0           0.0         0.0  \n",
       "month_lag                       0.0           0.0         0.0  \n",
       "purchase_amount                 0.0           0.0         0.0  \n",
       "purchase_date                   0.0           0.0         0.0  \n",
       "subsector_id                    0.0           0.0         0.0  \n",
       "historical                      0.0           0.0         0.0  "
      ]
     },
     "execution_count": 32,
     "metadata": {},
     "output_type": "execute_result"
    }
   ],
   "source": [
    "coocc"
   ]
  },
  {
   "cell_type": "markdown",
   "metadata": {},
   "source": [
    "* a missing `category_2` almost always co-occur with a missing `state_id` or `city_id` roughly 10% of the total transactions"
   ]
  },
  {
   "cell_type": "code",
   "execution_count": 33,
   "metadata": {},
   "outputs": [
    {
     "data": {
      "text/plain": [
       "<matplotlib.colorbar.Colorbar at 0x7fc03221bac8>"
      ]
     },
     "execution_count": 33,
     "metadata": {},
     "output_type": "execute_result"
    },
    {
     "data": {
      "image/png": "[encoded data removed]",
      "text/plain": [
       "<Figure size 288x288 with 2 Axes>"
      ]
     },
     "metadata": {},
     "output_type": "display_data"
    }
   ],
   "source": [
    "plt.matshow(coocc)\n",
    "plt.colorbar()"
   ]
  },
  {
   "cell_type": "code",
   "execution_count": 34,
   "metadata": {},
   "outputs": [],
   "source": [
    "# historical_missing = ( all_transactions[ all_transactions.historical == 1][transactions_categorical_features+merchants_categorical_features] == -1 )"
   ]
  },
  {
   "cell_type": "code",
   "execution_count": 35,
   "metadata": {},
   "outputs": [],
   "source": [
    "# historical_coocc = historical_missing.T.astype(np.int).dot(historical_missing.astype(np.int))"
   ]
  },
  {
   "cell_type": "code",
   "execution_count": 36,
   "metadata": {},
   "outputs": [],
   "source": [
    "# historical_coocc / all_transactions.shape[0]"
   ]
  },
  {
   "cell_type": "code",
   "execution_count": 37,
   "metadata": {},
   "outputs": [
    {
     "data": {
      "text/plain": [
       "<matplotlib.axes._subplots.AxesSubplot at 0x7fc072e4ce48>"
      ]
     },
     "execution_count": 37,
     "metadata": {},
     "output_type": "execute_result"
    },
    {
     "data": {
      "image/png": "[encoded data removed]",
      "text/plain": [
       "<Figure size 432x288 with 1 Axes>"
      ]
     },
     "metadata": {},
     "output_type": "display_data"
    }
   ],
   "source": [
    "all_transactions.month_lag.hist(bins=15)"
   ]
  },
  {
   "cell_type": "code",
   "execution_count": 38,
   "metadata": {},
   "outputs": [],
   "source": [
    "# all_transactions.plot.scatter(x=\"historical\",y=\"month_lag\")"
   ]
  },
  {
   "cell_type": "code",
   "execution_count": 39,
   "metadata": {},
   "outputs": [],
   "source": [
    "# # sample_card_ids = train.card_id.sample(1000) .tolist()\n",
    "\n",
    "# # sample_transactions = all_transactions.card_id.apply( lambda x: x in sample_card_ids )\n",
    "\n",
    "# # grouped= all_transactions[sample_transactions].groupby(\"card_id\")\n",
    "\n",
    "# # # all_transactions[ all_transactions[\"card_id\"] == \"C_ID_4e6213e9bc\" ].month_lag.hist()\n",
    "\n",
    "# # # grouped[\"month_lag\"].hist(bins=15,range=[-12.5,2.5],alpha=0.5)\n",
    "# # grouped[\"month_lag\"].hist(bins=15,range=[-12.5,2.5],histtype=\"step\",label=None)\n",
    "# # # plt.legend()\n",
    "\n",
    "# # # grouped.groups\n",
    "# # # \"C_ID_6242b8f73e\" in sample_card_ids.tolist()\n",
    "\n",
    "# sample_train = train[ train.card_id.apply(lambda x: x in sample_card_ids) ]\n",
    "\n",
    "# sample_aggr = grouped[\"month_lag\"].aggregate([\"mean\",\"std\"])\n",
    "\n",
    "# sample_train = sample_train.set_index(\"card_id\").join(sample_aggr)\n",
    "\n",
    "# sample_train.plot.scatter(x=\"std\",y=\"target\")\n",
    "\n",
    "# sample_train.plot.scatter(x=\"mean\",y=\"target\")\n",
    "\n",
    "# # historical_transactions_by_mechant= historical_transactions.groupby('merchant_id')"
   ]
  },
  {
   "cell_type": "code",
   "execution_count": 40,
   "metadata": {},
   "outputs": [],
   "source": [
    "def merch_entity(x):\n",
    "    ret = str(x[0])\n",
    "    for ix in x[1:]:\n",
    "        ret += \"_\"+str(ix)\n",
    "    return ret\n",
    "\n",
    "# historical_transactions[\"merch_entity\"] = historical_transactions[[\"merchant_id\",\"state_id\",\"subsector_id\",\"state_id\",\"city_id\"]].apply(merch_entity)"
   ]
  },
  {
   "cell_type": "code",
   "execution_count": 41,
   "metadata": {},
   "outputs": [],
   "source": [
    "cards = pd.concat( [train.card_id,test.card_id] )\n",
    "\n",
    "card_encoder = LabelEncoder()\n",
    "\n",
    "card_encoder.fit(cards)\n",
    "with open(\"card_encoder.pkl\",\"wb+\") as fout:\n",
    "    fout.write( pickle.dumps(card_encoder) )"
   ]
  },
  {
   "cell_type": "code",
   "execution_count": 42,
   "metadata": {},
   "outputs": [],
   "source": [
    "train[\"card_id\"] = card_encoder.transform(train[\"card_id\"])\n",
    "test[\"card_id\"] = card_encoder.transform(test[\"card_id\"])\n",
    "all_transactions[\"card_id\"] = card_encoder.transform(all_transactions[\"card_id\"])"
   ]
  },
  {
   "cell_type": "code",
   "execution_count": 43,
   "metadata": {},
   "outputs": [],
   "source": [
    "all_transactions.to_hdf(\"../input/all_transactions.hd5\",\"all_transactions\",mode=\"w\")\n",
    "merchants.to_hdf(\"../input/merchants.hd5\",\"merchants\",mode=\"w\")\n",
    "\n",
    "train.to_hdf(\"../input/train.hd5\",\"train\",mode=\"w\")\n",
    "test.to_hdf(\"../input/test.hd5\",\"test\",mode=\"w\")\n",
    "\n"
   ]
  },
  {
   "cell_type": "code",
   "execution_count": 44,
   "metadata": {},
   "outputs": [
    {
     "data": {
      "text/plain": [
       "merchant_id                      int64\n",
       "merchant_group_id                int64\n",
       "merchant_category_id             int64\n",
       "subsector_id                     int64\n",
       "numerical_1                    float64\n",
       "numerical_2                    float64\n",
       "category_1                      object\n",
       "most_recent_sales_range         object\n",
       "most_recent_purchases_range     object\n",
       "avg_sales_lag3                 float64\n",
       "avg_purchases_lag3             float64\n",
       "active_months_lag3               int64\n",
       "avg_sales_lag6                 float64\n",
       "avg_purchases_lag6             float64\n",
       "active_months_lag6               int64\n",
       "avg_sales_lag12                float64\n",
       "avg_purchases_lag12            float64\n",
       "active_months_lag12              int64\n",
       "category_4                      object\n",
       "city_id                          int64\n",
       "state_id                         int64\n",
       "category_2                     float64\n",
       "dtype: object"
      ]
     },
     "execution_count": 44,
     "metadata": {},
     "output_type": "execute_result"
    }
   ],
   "source": [
    "merchants.dtypes"
   ]
  },
  {
   "cell_type": "code",
   "execution_count": 45,
   "metadata": {},
   "outputs": [],
   "source": [
    "# train.feature_3.unique()"
   ]
  },
  {
   "cell_type": "code",
   "execution_count": null,
   "metadata": {},
   "outputs": [],
   "source": [
    "grouped = all_transactions.groupby(\"card_id\")\n",
    "\n",
    "merchant_corpus = grouped[\"merchant_id\"].aggregate(lambda x: \" \".join(x.astype(str).tolist()) )\n",
    "\n",
    "state_corpus = grouped[\"state_id\"].aggregate(lambda x: \" \".join(x.astype(str).tolist()) )\n",
    "\n",
    "city_corpus = grouped[\"city_id\"].aggregate(lambda x: \" \".join(x.astype(str).tolist()) )\n",
    "\n",
    "subsector_corpus = grouped[\"subsector_id\"].aggregate(lambda x: \" \".join(x.astype(str).tolist()) )"
   ]
  },
  {
   "cell_type": "code",
   "execution_count": null,
   "metadata": {},
   "outputs": [],
   "source": [
    "save_as = dict(merchant_corpus=merchant_corpus,state_corpus=state_corpus,city_corpus=city_corpus,subsector_corpus=subsector_corpus)\n",
    "\n",
    "for fname,obj in save_as.items():\n",
    "    with open(fname+\".txt\",\"wt+\") as fout:\n",
    "        for row,val in obj.items():\n",
    "            fout.write(val+\"\\n\")\n",
    "    fout.close()\n"
   ]
  },
  {
   "cell_type": "code",
   "execution_count": null,
   "metadata": {},
   "outputs": [],
   "source": [
    "! sudo halt"
   ]
  },
  {
   "cell_type": "code",
   "execution_count": null,
   "metadata": {},
   "outputs": [],
   "source": []
  },
  {
   "cell_type": "code",
   "execution_count": null,
   "metadata": {},
   "outputs": [],
   "source": []
  },
  {
   "cell_type": "code",
   "execution_count": null,
   "metadata": {},
   "outputs": [],
   "source": [
    "# aggregate = {\n",
    "#     \"card_id\" : [\"nunique\"]\n",
    "    \n",
    "# }\n",
    "\n",
    "# historical_transactions_by_mechant.aggregate(aggregate)"
   ]
  },
  {
   "cell_type": "code",
   "execution_count": null,
   "metadata": {},
   "outputs": [],
   "source": [
    "# merchants[\"avg_purchases_lag3\"]"
   ]
  },
  {
   "cell_type": "code",
   "execution_count": null,
   "metadata": {},
   "outputs": [],
   "source": [
    "# historical_transactions_by_card = historical_transactions.groupby(\"card_id\")"
   ]
  },
  {
   "cell_type": "code",
   "execution_count": null,
   "metadata": {},
   "outputs": [],
   "source": [
    "# aggregated_transactios_by_card = historical_transactions_by_card.aggregate( {\"city_id\" : [\"count\",\"nunique\"]})"
   ]
  },
  {
   "cell_type": "code",
   "execution_count": null,
   "metadata": {},
   "outputs": [],
   "source": [
    "# aggregated_transactios_by_card[\"city_id\",\"nunique\"].hist(range=[0,50],bins=50)"
   ]
  },
  {
   "cell_type": "code",
   "execution_count": null,
   "metadata": {},
   "outputs": [],
   "source": [
    "# new_transactions_by_card = new_transactions.groupby(\"card_id\")\n",
    "# aggregated_new_transactios_by_card = new_transactions_by_card.aggregate( {\"city_id\" : [\"count\",\"nunique\"]})"
   ]
  },
  {
   "cell_type": "code",
   "execution_count": null,
   "metadata": {},
   "outputs": [],
   "source": [
    "# aggregated_new_transactios_by_card[\"city_id\",\"nunique\"].hist(range=[0,50],bins=50)"
   ]
  },
  {
   "cell_type": "code",
   "execution_count": null,
   "metadata": {},
   "outputs": [],
   "source": [
    "# joined_aggregated_transaction = aggregated_transactios_by_card.join(aggregated_new_transactios_by_card,lsuffix=\"_hist\",rsuffix=\"_new\")"
   ]
  },
  {
   "cell_type": "code",
   "execution_count": null,
   "metadata": {},
   "outputs": [],
   "source": [
    "# plt.hist2d(joined_aggregated_transaction[\"city_id_hist\",\"nunique\"],joined_aggregated_transaction[\"city_id_new\",\"nunique\"],range=[ [0,50],[0,10] ],bins=[50,10]);"
   ]
  },
  {
   "cell_type": "code",
   "execution_count": null,
   "metadata": {},
   "outputs": [],
   "source": []
  },
  {
   "cell_type": "code",
   "execution_count": null,
   "metadata": {},
   "outputs": [],
   "source": [
    "# train = train.set_index(\"card_id\").join(joined_aggregated_transaction)"
   ]
  },
  {
   "cell_type": "code",
   "execution_count": null,
   "metadata": {},
   "outputs": [],
   "source": [
    "# train[[(\"city_id_hist\",\"nunique\"),(\"city_id_new\",\"nunique\"),'target']].corr()"
   ]
  },
  {
   "cell_type": "code",
   "execution_count": null,
   "metadata": {},
   "outputs": [],
   "source": [
    "# np.log(np.abs(train.target)).hist(bins=200)"
   ]
  },
  {
   "cell_type": "code",
   "execution_count": null,
   "metadata": {},
   "outputs": [],
   "source": []
  }
 ],
 "metadata": {
  "kernelspec": {
   "display_name": "Environment (conda_tensorflow_p36)",
   "language": "python",
   "name": "conda_tensorflow_p36"
  },
  "language_info": {
   "codemirror_mode": {
    "name": "ipython",
    "version": 3
   },
   "file_extension": ".py",
   "mimetype": "text/x-python",
   "name": "python",
   "nbconvert_exporter": "python",
   "pygments_lexer": "ipython3",
   "version": "3.6.5"
  }
 },
 "nbformat": 4,
 "nbformat_minor": 2
}
